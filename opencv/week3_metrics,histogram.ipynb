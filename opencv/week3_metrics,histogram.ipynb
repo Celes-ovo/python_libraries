{
 "cells": [
  {
   "cell_type": "code",
   "execution_count": 8,
   "id": "878b9783-4878-4c14-9eb3-950e548be6e4",
   "metadata": {},
   "outputs": [],
   "source": [
    "import numpy as np\n",
    "import os\n",
    "import cv2\n",
    "import matplotlib.pyplot as plt"
   ]
  },
  {
   "cell_type": "markdown",
   "id": "59c39a10-9974-4945-ab2d-5054141034c1",
   "metadata": {},
   "source": [
    "# Salt and Pepper noise"
   ]
  },
  {
   "cell_type": "code",
   "execution_count": 14,
   "id": "80895af8-6d2e-4b96-9f61-29a8016847bc",
   "metadata": {},
   "outputs": [],
   "source": [
    "def salt_n_pepper_noise(image,amount=0.004,s_vs_p=0.5):\n",
    "    \n",
    "#     if 2 == len(image.shape):\n",
    "#         row,col= image.shape\n",
    "#         ch = 1\n",
    "        \n",
    "#     else:\n",
    "#         row,col,ch = image.shape\n",
    "    \n",
    "    out = np.copy(image)\n",
    "    \n",
    "    # Salt mode\n",
    "    num_salt = np.ceil(amount * image.size * s_vs_p)\n",
    "    #coords = [np.random.randint(0, i - 1, int(num_salt))\n",
    "    #          for i in image.shape]\n",
    "    coords = [np.random.randint(0, i, int(num_salt))\n",
    "              for i in image.shape]\n",
    "    out[tuple(coords)] = 1\n",
    "    \n",
    "    # Pepper mode\n",
    "    num_pepper = np.ceil(amount* image.size * (1. - s_vs_p))\n",
    "    #coords = [np.random.randint(0, i - 1, int(num_pepper))\n",
    "    #          for i in image.shape]\n",
    "    coords = [np.random.randint(0, i, int(num_salt))\n",
    "              for i in image.shape]\n",
    "    out[tuple(coords)] = 0\n",
    "    \n",
    "    return out"
   ]
  },
  {
   "cell_type": "code",
   "execution_count": 25,
   "id": "0dcc47fd-d1ab-4c98-9e05-a073f4e8421c",
   "metadata": {},
   "outputs": [
    {
     "data": {
      "text/plain": [
       "\u001b[1;31mCall signature:\u001b[0m  \u001b[0mnp\u001b[0m\u001b[1;33m.\u001b[0m\u001b[0mceil\u001b[0m\u001b[1;33m(\u001b[0m\u001b[1;33m*\u001b[0m\u001b[0margs\u001b[0m\u001b[1;33m,\u001b[0m \u001b[1;33m**\u001b[0m\u001b[0mkwargs\u001b[0m\u001b[1;33m)\u001b[0m\u001b[1;33m\u001b[0m\u001b[1;33m\u001b[0m\u001b[0m\n",
       "\u001b[1;31mType:\u001b[0m            ufunc\n",
       "\u001b[1;31mString form:\u001b[0m     <ufunc 'ceil'>\n",
       "\u001b[1;31mFile:\u001b[0m            d:\\anacoda3\\envs\\link\\lib\\site-packages\\numpy\\__init__.py\n",
       "\u001b[1;31mDocstring:\u001b[0m      \n",
       "ceil(x, /, out=None, *, where=True, casting='same_kind', order='K', dtype=None, subok=True[, signature, extobj])\n",
       "\n",
       "Return the ceiling of the input, element-wise.\n",
       "\n",
       "The ceil of the scalar `x` is the smallest integer `i`, such that\n",
       "`i >= x`.  It is often denoted as :math:`\\lceil x \\rceil`.\n",
       "\n",
       "Parameters\n",
       "----------\n",
       "x : array_like\n",
       "    Input data.\n",
       "out : ndarray, None, or tuple of ndarray and None, optional\n",
       "    A location into which the result is stored. If provided, it must have\n",
       "    a shape that the inputs broadcast to. If not provided or None,\n",
       "    a freshly-allocated array is returned. A tuple (possible only as a\n",
       "    keyword argument) must have length equal to the number of outputs.\n",
       "where : array_like, optional\n",
       "    This condition is broadcast over the input. At locations where the\n",
       "    condition is True, the `out` array will be set to the ufunc result.\n",
       "    Elsewhere, the `out` array will retain its original value.\n",
       "    Note that if an uninitialized `out` array is created via the default\n",
       "    ``out=None``, locations within it where the condition is False will\n",
       "    remain uninitialized.\n",
       "**kwargs\n",
       "    For other keyword-only arguments, see the\n",
       "    :ref:`ufunc docs <ufuncs.kwargs>`.\n",
       "\n",
       "Returns\n",
       "-------\n",
       "y : ndarray or scalar\n",
       "    The ceiling of each element in `x`, with `float` dtype.\n",
       "    This is a scalar if `x` is a scalar.\n",
       "\n",
       "See Also\n",
       "--------\n",
       "floor, trunc, rint\n",
       "\n",
       "Examples\n",
       "--------\n",
       ">>> a = np.array([-1.7, -1.5, -0.2, 0.2, 1.5, 1.7, 2.0])\n",
       ">>> np.ceil(a)\n",
       "array([-1., -1., -0.,  1.,  2.,  2.,  2.])\n",
       "\u001b[1;31mClass docstring:\u001b[0m\n",
       "Functions that operate element by element on whole arrays.\n",
       "\n",
       "To see the documentation for a specific ufunc, use `info`.  For\n",
       "example, ``np.info(np.sin)``.  Because ufuncs are written in C\n",
       "(for speed) and linked into Python with NumPy's ufunc facility,\n",
       "Python's help() function finds this page whenever help() is called\n",
       "on a ufunc.\n",
       "\n",
       "A detailed explanation of ufuncs can be found in the docs for :ref:`ufuncs`.\n",
       "\n",
       "**Calling ufuncs:** ``op(*x[, out], where=True, **kwargs)``\n",
       "\n",
       "Apply `op` to the arguments `*x` elementwise, broadcasting the arguments.\n",
       "\n",
       "The broadcasting rules are:\n",
       "\n",
       "* Dimensions of length 1 may be prepended to either array.\n",
       "* Arrays may be repeated along dimensions of length 1.\n",
       "\n",
       "Parameters\n",
       "----------\n",
       "*x : array_like\n",
       "    Input arrays.\n",
       "out : ndarray, None, or tuple of ndarray and None, optional\n",
       "    Alternate array object(s) in which to put the result; if provided, it\n",
       "    must have a shape that the inputs broadcast to. A tuple of arrays\n",
       "    (possible only as a keyword argument) must have length equal to the\n",
       "    number of outputs; use None for uninitialized outputs to be\n",
       "    allocated by the ufunc.\n",
       "where : array_like, optional\n",
       "    This condition is broadcast over the input. At locations where the\n",
       "    condition is True, the `out` array will be set to the ufunc result.\n",
       "    Elsewhere, the `out` array will retain its original value.\n",
       "    Note that if an uninitialized `out` array is created via the default\n",
       "    ``out=None``, locations within it where the condition is False will\n",
       "    remain uninitialized.\n",
       "**kwargs\n",
       "    For other keyword-only arguments, see the :ref:`ufunc docs <ufuncs.kwargs>`.\n",
       "\n",
       "Returns\n",
       "-------\n",
       "r : ndarray or tuple of ndarray\n",
       "    `r` will have the shape that the arrays in `x` broadcast to; if `out` is\n",
       "    provided, it will be returned. If not, `r` will be allocated and\n",
       "    may contain uninitialized values. If the function has more than one\n",
       "    output, then the result will be a tuple of arrays.\n"
      ]
     },
     "metadata": {},
     "output_type": "display_data"
    }
   ],
   "source": [
    "np.ceil?"
   ]
  },
  {
   "cell_type": "code",
   "execution_count": 18,
   "id": "cdd620a9-940a-4c39-bbc2-776096fd37cf",
   "metadata": {},
   "outputs": [
    {
     "data": {
      "text/plain": [
       "<matplotlib.image.AxesImage at 0x1bef36048e0>"
      ]
     },
     "execution_count": 18,
     "metadata": {},
     "output_type": "execute_result"
    },
    {
     "data": {
      "image/png": "[encoded data removed]",
      "text/plain": [
       "<Figure size 432x288 with 1 Axes>"
      ]
     },
     "metadata": {
      "needs_background": "light"
     },
     "output_type": "display_data"
    }
   ],
   "source": [
    "img = np.ones((200, 200))\n",
    "astro = img - 50\n",
    "\n",
    "plt.imshow(salt_n_pepper_noise(astro))"
   ]
  },
  {
   "cell_type": "code",
   "execution_count": 20,
   "id": "f7e2cb87-40c8-4ee8-9b71-a0b2aa6c4de6",
   "metadata": {},
   "outputs": [
    {
     "data": {
      "text/plain": [
       "<matplotlib.image.AxesImage at 0x1bef361f760>"
      ]
     },
     "execution_count": 20,
     "metadata": {},
     "output_type": "execute_result"
    },
    {
     "data": {
      "image/png": "[encoded data removed]",
      "text/plain": [
       "<Figure size 432x288 with 1 Axes>"
      ]
     },
     "metadata": {
      "needs_background": "light"
     },
     "output_type": "display_data"
    }
   ],
   "source": [
    "\"\"\"from skimage import data\n",
    "#from skimage.color import rgb2gray\n",
    "from skimage import img_as_ubyte,img_as_float\n",
    "import matplotlib.pyplot as plt\n",
    "\n",
    "astro = data.astronaut()\n",
    "astro = cv2.cvtColor(astro,cv2.COLOR_RGB2GRAY)\n",
    "\"\"\"\n",
    "\n",
    "# Noramlize to the range of 0~1 \n",
    "#info = np.iinfo(astro.dtype)\n",
    "#astro = astro/info.max\n",
    "\n",
    "plt.axis('off')\n",
    "plt.imshow(astro ,cmap='gray')"
   ]
  },
  {
   "cell_type": "code",
   "execution_count": 21,
   "id": "82b5f555-5eca-4374-bbc3-151b9438fb9a",
   "metadata": {},
   "outputs": [
    {
     "data": {
      "text/plain": [
       "<matplotlib.image.AxesImage at 0x1bef36ac100>"
      ]
     },
     "execution_count": 21,
     "metadata": {},
     "output_type": "execute_result"
    },
    {
     "data": {
      "image/png": "[encoded data removed]",
      "text/plain": [
       "<Figure size 432x288 with 1 Axes>"
      ]
     },
     "metadata": {
      "needs_background": "light"
     },
     "output_type": "display_data"
    }
   ],
   "source": [
    "s_vs_p = 0.5\n",
    "amount = 0.004\n",
    "\n",
    "s_p_04 = salt_n_pepper_noise(astro,amount,s_vs_p)\n",
    "\n",
    "plt.title('0.4%')\n",
    "plt.axis('off')\n",
    "plt.imshow(s_p_04 ,cmap='gray')"
   ]
  },
  {
   "cell_type": "markdown",
   "id": "8efef0cd-1d30-4a6c-b503-5cb26cc526ed",
   "metadata": {},
   "source": [
    "# Metrics"
   ]
  },
  {
   "cell_type": "code",
   "execution_count": null,
   "id": "be9f8b20-5432-46f4-8477-f61acd46d725",
   "metadata": {},
   "outputs": [],
   "source": [
    "import math\n",
    "\n",
    "def mae(src,dst):\n",
    "    return np.mean(np.abs(src-dst))\n",
    "\n",
    "def mse(src,dst):\n",
    "    return np.mean((src-dst)**2)\n",
    "\n",
    "def sse(src,dst):\n",
    "    return np.sum((src-dst)**2)\n",
    "\n",
    "def rmse(src,dst):\n",
    "    return np.sqrt(mse(src,dst))\n",
    "\n",
    "def psnr(src,dst):\n",
    "    mse = np.mean((src-dst)**2)\n",
    "    if mse == 0:\n",
    "        return math.inf\n",
    "    MAX=1\n",
    "    return 20* math.log10(MAX/math.sqrt(mse))"
   ]
  },
  {
   "cell_type": "code",
   "execution_count": 23,
   "id": "401e2668-717d-4918-a335-4150ea985a6f",
   "metadata": {},
   "outputs": [
    {
     "name": "stdout",
     "output_type": "stream",
     "text": [
      "mae = 0.1980\n",
      "mse = 9.8020\n",
      "sse = 392080.0000\n",
      "rmse= 3.1308\n",
      "psnr= -9.9131\n"
     ]
    }
   ],
   "source": [
    "print('mae = {:.4f}'.format(mae(astro,s_p_04)))\n",
    "print('mse = {:.4f}'.format(mse(astro,s_p_04)))\n",
    "print('sse = {:.4f}'.format(sse(astro,s_p_04)))\n",
    "print('rmse= {:.4f}'.format(rmse(astro,s_p_04)))\n",
    "print('psnr= {:.4f}'.format(psnr(astro,s_p_04)))"
   ]
  },
  {
   "cell_type": "markdown",
   "id": "8eeae890-0ac9-40c4-91ee-4379d7b5d6ce",
   "metadata": {},
   "source": [
    "====================================================="
   ]
  },
  {
   "cell_type": "markdown",
   "id": "315a1e28-4864-4f9b-9075-d2b6c9530dd0",
   "metadata": {
    "tags": []
   },
   "source": [
    "# Histogram"
   ]
  },
  {
   "cell_type": "markdown",
   "id": "9ae89ce4-2ab8-4151-8c2e-3c7265e1049f",
   "metadata": {},
   "source": [
    "* `BINS` : \n",
    "    * 히스토그램 그래프의 X축(intensity)의 bin의 수(`histSize`)를 결정 .\n",
    "    * 8bit gray scale 영상의 경우에는 0 ~ 255로 intensity가 표현되며, 이 경우 BINS은 최대 256 의 수를 가질 수 있음.\n",
    "       \n",
    "    * 만약, BINS값이 16으로 지정할 경우, 0 ~ 15, 16 ~ 31..., 240 ~ 255와 같이 X축이 16개의 bin으로 표현이 됨.\n",
    "    * 이는 intensity가 0~15까지 같은 bin에서 카운팅 됨을 의미!\n",
    "       \n",
    "    * OpenCV에서는 BINS를 histSize 라고 표현합니다.\n",
    "* `channels` : \n",
    "    * 이미지에서 histogram을 만들기 위해 사용하는 값을  의미. \n",
    "    * 빛의 강도(intensity)를 기준으로 histogram을 만들지, RGB값을 기준으로  만들지를 결정.\n",
    "* `range` : \n",
    "    * X축의 범위임 (각 pixel이 가질 수 있는 범위).\n",
    "    * = X축의 from ~ to."
   ]
  },
  {
   "cell_type": "code",
   "execution_count": 24,
   "id": "5a67e756-628c-4f20-a228-58e03485f145",
   "metadata": {},
   "outputs": [
    {
     "data": {
      "text/plain": [
       "\u001b[1;31mDocstring:\u001b[0m\n",
       "calcHist(images, channels, mask, histSize, ranges[, hist[, accumulate]]) -> hist\n",
       ".   @overload\n",
       "\u001b[1;31mType:\u001b[0m      builtin_function_or_method\n"
      ]
     },
     "metadata": {},
     "output_type": "display_data"
    }
   ],
   "source": [
    "cv2.calcHist?"
   ]
  },
  {
   "cell_type": "markdown",
   "id": "215c8f15-fdc2-4dcc-ba38-740116478a3b",
   "metadata": {},
   "source": [
    "* image  : 분석대상 이미지(uint8 or float32 type). Array형태.\n",
    "* channels : 분석 채널(X축의 대상). 이미지가 graysacle이면 [0], color 이미지이면 [0,2] 형태(0 : Blue, 1: Green, 2: Red)\n",
    "* mask : 이미지의 분석영역. None이면 전체 영역.\n",
    "* histSize : BINS 값. [256]\n",
    "* ranges : Range값. [0,256]"
   ]
  },
  {
   "cell_type": "code",
   "execution_count": null,
   "id": "06f19f4b-3cd6-4953-9984-6ca7eb1e5224",
   "metadata": {},
   "outputs": [],
   "source": [
    "import random"
   ]
  },
  {
   "cell_type": "code",
   "execution_count": null,
   "id": "c305b652-f7b2-4559-9671-9ce831eed5bc",
   "metadata": {},
   "outputs": [],
   "source": [
    "img1 = cv2.imread(os.path.join(PATH, 'flower1.jpg'), cv2.IMREAD_GRAYSCALE)\n",
    "img2 = cv2.imread(os.path.join(PATH, 'flower2.jpg'), cv2.IMREAD_GRAYSCALE)\n",
    "\n",
    "hist1 = cv2.calcHist([img1],[0],None,[256],[0,256])\n",
    "hist2 = cv2.calcHist([img2],[0],None,[256],[0,256])\n",
    "\n",
    "#plt.style.use('dark_background')\n",
    "plt.subplot(2,2,1),plt.imshow(img1,'gray'),plt.title('Red Line')\n",
    "plt.subplot(2,2,2),plt.imshow(img2,'gray'),plt.title('Green Line')\n",
    "plt.subplot(2,2,3),plt.plot(hist1,color='r')\n",
    "plt.subplot(2,2,4),plt.plot(hist2,color='g')\n",
    "plt.xlim([0,256])\n",
    "plt.show()\n",
    "\n",
    "\n",
    "hist3 = cv2.calcHist([img1],[0],None,[32],[0,128])\n",
    "print(np.shape(hist3))\n",
    "\n",
    "plt.figure()\n",
    "plt.plot(hist3,color='r')\n",
    "plt.show()"
   ]
  },
  {
   "cell_type": "markdown",
   "id": "5e033a0c-1a3b-432a-9de1-cbe2b52e01a3",
   "metadata": {},
   "source": [
    "## +"
   ]
  },
  {
   "cell_type": "code",
   "execution_count": null,
   "id": "c7897f45-a11a-47b5-8ea3-99d117ec50b1",
   "metadata": {},
   "outputs": [],
   "source": [
    "#-*-coding:utf-8-*-\n",
    "import cv2\n",
    "import numpy as np\n",
    "from matplotlib import pyplot as plt\n",
    "\n",
    "\n",
    "# img = cv2.imread('./images/lena.png');\n",
    "img = cv2.imread(os.path.join(PATH, 'lena.png'))\n",
    "\n",
    "\n",
    "# mask 생성\n",
    "\n",
    "# img.shape[:2] 기억!!\n",
    "\n",
    "mask = np.zeros(img.shape[:2],np.uint8)\n",
    "mask[100:300,100:400] = 255\n",
    "\n",
    "# 이미지에 mask가 적용된 결과\n",
    "masked_img = cv2.bitwise_and(img,img,mask=mask)\n",
    "\n",
    "\n",
    "\n",
    "\n",
    "# 원본 이미지의 히스토그램 green\n",
    "hist_full = cv2.calcHist([img],[1],None,[256],[0,256])\n",
    "\n",
    "# mask를 적용한 히스트로그램 green\n",
    "hist_mask = cv2.calcHist([img],[1],mask,[256],[0,256])\n",
    "\n",
    "\n",
    "\n",
    "\n",
    "\n",
    "# bgr > rgb\n",
    "#b,g,r = cv2.split(img) # divide img into b,g,r\n",
    "#img = cv2.merge([r,g,b])\n",
    "#b,g,r = cv2.split(masked_img)\n",
    "\n",
    "#masked_img = cv2.merge([r,g,b])\n",
    "\n",
    "img = img[:, :, ::-1]\n",
    "# img = img[..., ::-1]도 가능함!\n",
    "\n",
    "masked_img = masked_img[:,:,::-1]\n",
    "\n",
    "#plt.style.use('dark_background')\n",
    "plt.subplot(221),plt.imshow(img,'gray'),plt.title('Origianl Image(red)'), plt.xticks([]), plt.yticks([])\n",
    "plt.subplot(222),plt.imshow(mask,'gray'),plt.title('Mask'), plt.xticks([]), plt.yticks([])\n",
    "plt.subplot(223),plt.imshow(masked_img,'gray'),plt.title('Masked Image(blue)'), plt.xticks([]), plt.yticks([])\n",
    "\n",
    "# red는 원본이미지 히스토그램, blue는 mask적용된 히스토그램\n",
    "plt.subplot(224),plt.title('Histogram')\n",
    "plt.plot(hist_full,color='r'),plt.plot(hist_mask,color='b')\n",
    "plt.xlim([0,256])\n",
    "\n",
    "plt.show()"
   ]
  },
  {
   "cell_type": "code",
   "execution_count": null,
   "id": "5efd6174-4611-47ff-ba26-fd6dfb4e3878",
   "metadata": {},
   "outputs": [],
   "source": [
    "# opencv : BGR\n",
    "# numpy, matplot : RGB\n",
    "plt.figure()\n",
    "hist_full = cv2.calcHist([img],[0],None,[256],[0,256])\n",
    "plt.plot(hist_full, color='r')\n",
    "hist_full = cv2.calcHist([img],[1],None,[256],[0,256])\n",
    "plt.plot(hist_full, color='g')\n",
    "hist_full = cv2.calcHist([img],[2],None,[256],[0,256])\n",
    "plt.plot(hist_full, color='b')\n",
    "plt.show()"
   ]
  },
  {
   "cell_type": "markdown",
   "id": "410cccf8-02a3-49f0-97b0-94510ba827e7",
   "metadata": {},
   "source": [
    "# Histogram Stretching\n",
    "\n",
    "* Histogram 이 전구간에 펼쳐져서 나타나도록 늘려주는 기법.\n",
    "* 전체적인 contrast를 향상시켜줌\n",
    "\n",
    "$$\n",
    "\\textbf{dst}(x,y) \n",
    "= \n",
    "I_{max} \n",
    "\\frac{ \\textbf{src}(x,y) - \\textbf{min}(\\textbf{src[:]})} \n",
    "{\\textbf{max}(\\textbf{src[:]})-\\textbf{min}(\\textbf{src[:]})}\n",
    "$$"
   ]
  },
  {
   "cell_type": "markdown",
   "id": "f05b5402-217e-4355-ac04-eaa8531b8b12",
   "metadata": {},
   "source": [
    "# Histogram Equalization\n",
    "\n",
    "* Histogram stretching 에 추가적으로 pixel의 분포값이 전영역에 고르게 분포되도록 뭉쳐있는 곳은 넓은 간격으로 histogram이 떨어지도록 조정.\n",
    "\n",
    "* Histogram 누적 함수.\n",
    "$$\n",
    "\\textbf{cdf}(g) = \\Sigma_{0\\le i \\le g} h(i)\n",
    "$$\n",
    "\n",
    "* 결과 이미지의 값은 다음 수식으로 결정됨.\n",
    "$$\n",
    "\\textbf{dst}(x,y) = round \\left( I_{max} \\frac{\\textbf{cdf}((\\textbf{src}(x,y))}{N} \\right)\n",
    "$$\n",
    "\n",
    "  * 여기서 $I_{max}$는 pixel이 가질 수 있는 최대 intensity임.\n",
    "\n"
   ]
  },
  {
   "cell_type": "code",
   "execution_count": 26,
   "id": "1fda9566-e907-459a-b318-5f7183d5f317",
   "metadata": {},
   "outputs": [
    {
     "data": {
      "text/plain": [
       "\u001b[1;31mSignature:\u001b[0m\n",
       "\u001b[0mnp\u001b[0m\u001b[1;33m.\u001b[0m\u001b[0mhistogram\u001b[0m\u001b[1;33m(\u001b[0m\u001b[1;33m\n",
       "\u001b[0m    \u001b[0ma\u001b[0m\u001b[1;33m,\u001b[0m\u001b[1;33m\n",
       "\u001b[0m    \u001b[0mbins\u001b[0m\u001b[1;33m=\u001b[0m\u001b[1;36m10\u001b[0m\u001b[1;33m,\u001b[0m\u001b[1;33m\n",
       "\u001b[0m    \u001b[0mrange\u001b[0m\u001b[1;33m=\u001b[0m\u001b[1;32mNone\u001b[0m\u001b[1;33m,\u001b[0m\u001b[1;33m\n",
       "\u001b[0m    \u001b[0mnormed\u001b[0m\u001b[1;33m=\u001b[0m\u001b[1;32mNone\u001b[0m\u001b[1;33m,\u001b[0m\u001b[1;33m\n",
       "\u001b[0m    \u001b[0mweights\u001b[0m\u001b[1;33m=\u001b[0m\u001b[1;32mNone\u001b[0m\u001b[1;33m,\u001b[0m\u001b[1;33m\n",
       "\u001b[0m    \u001b[0mdensity\u001b[0m\u001b[1;33m=\u001b[0m\u001b[1;32mNone\u001b[0m\u001b[1;33m,\u001b[0m\u001b[1;33m\n",
       "\u001b[0m\u001b[1;33m)\u001b[0m\u001b[1;33m\u001b[0m\u001b[1;33m\u001b[0m\u001b[0m\n",
       "\u001b[1;31mDocstring:\u001b[0m\n",
       "Compute the histogram of a set of data.\n",
       "\n",
       "Parameters\n",
       "----------\n",
       "a : array_like\n",
       "    Input data. The histogram is computed over the flattened array.\n",
       "bins : int or sequence of scalars or str, optional\n",
       "    If `bins` is an int, it defines the number of equal-width\n",
       "    bins in the given range (10, by default). If `bins` is a\n",
       "    sequence, it defines a monotonically increasing array of bin edges,\n",
       "    including the rightmost edge, allowing for non-uniform bin widths.\n",
       "\n",
       "    .. versionadded:: 1.11.0\n",
       "\n",
       "    If `bins` is a string, it defines the method used to calculate the\n",
       "    optimal bin width, as defined by `histogram_bin_edges`.\n",
       "\n",
       "range : (float, float), optional\n",
       "    The lower and upper range of the bins.  If not provided, range\n",
       "    is simply ``(a.min(), a.max())``.  Values outside the range are\n",
       "    ignored. The first element of the range must be less than or\n",
       "    equal to the second. `range` affects the automatic bin\n",
       "    computation as well. While bin width is computed to be optimal\n",
       "    based on the actual data within `range`, the bin count will fill\n",
       "    the entire range including portions containing no data.\n",
       "normed : bool, optional\n",
       "\n",
       "    .. deprecated:: 1.6.0\n",
       "\n",
       "    This is equivalent to the `density` argument, but produces incorrect\n",
       "    results for unequal bin widths. It should not be used.\n",
       "\n",
       "    .. versionchanged:: 1.15.0\n",
       "        DeprecationWarnings are actually emitted.\n",
       "\n",
       "weights : array_like, optional\n",
       "    An array of weights, of the same shape as `a`.  Each value in\n",
       "    `a` only contributes its associated weight towards the bin count\n",
       "    (instead of 1). If `density` is True, the weights are\n",
       "    normalized, so that the integral of the density over the range\n",
       "    remains 1.\n",
       "density : bool, optional\n",
       "    If ``False``, the result will contain the number of samples in\n",
       "    each bin. If ``True``, the result is the value of the\n",
       "    probability *density* function at the bin, normalized such that\n",
       "    the *integral* over the range is 1. Note that the sum of the\n",
       "    histogram values will not be equal to 1 unless bins of unity\n",
       "    width are chosen; it is not a probability *mass* function.\n",
       "\n",
       "    Overrides the ``normed`` keyword if given.\n",
       "\n",
       "Returns\n",
       "-------\n",
       "hist : array\n",
       "    The values of the histogram. See `density` and `weights` for a\n",
       "    description of the possible semantics.\n",
       "bin_edges : array of dtype float\n",
       "    Return the bin edges ``(length(hist)+1)``.\n",
       "\n",
       "\n",
       "See Also\n",
       "--------\n",
       "histogramdd, bincount, searchsorted, digitize, histogram_bin_edges\n",
       "\n",
       "Notes\n",
       "-----\n",
       "All but the last (righthand-most) bin is half-open.  In other words,\n",
       "if `bins` is::\n",
       "\n",
       "  [1, 2, 3, 4]\n",
       "\n",
       "then the first bin is ``[1, 2)`` (including 1, but excluding 2) and\n",
       "the second ``[2, 3)``.  The last bin, however, is ``[3, 4]``, which\n",
       "*includes* 4.\n",
       "\n",
       "\n",
       "Examples\n",
       "--------\n",
       ">>> np.histogram([1, 2, 1], bins=[0, 1, 2, 3])\n",
       "(array([0, 2, 1]), array([0, 1, 2, 3]))\n",
       ">>> np.histogram(np.arange(4), bins=np.arange(5), density=True)\n",
       "(array([0.25, 0.25, 0.25, 0.25]), array([0, 1, 2, 3, 4]))\n",
       ">>> np.histogram([[1, 2, 1], [1, 0, 1]], bins=[0,1,2,3])\n",
       "(array([1, 4, 1]), array([0, 1, 2, 3]))\n",
       "\n",
       ">>> a = np.arange(5)\n",
       ">>> hist, bin_edges = np.histogram(a, density=True)\n",
       ">>> hist\n",
       "array([0.5, 0. , 0.5, 0. , 0. , 0.5, 0. , 0.5, 0. , 0.5])\n",
       ">>> hist.sum()\n",
       "2.4999999999999996\n",
       ">>> np.sum(hist * np.diff(bin_edges))\n",
       "1.0\n",
       "\n",
       ".. versionadded:: 1.11.0\n",
       "\n",
       "Automated Bin Selection Methods example, using 2 peak random data\n",
       "with 2000 points:\n",
       "\n",
       ">>> import matplotlib.pyplot as plt\n",
       ">>> rng = np.random.RandomState(10)  # deterministic random data\n",
       ">>> a = np.hstack((rng.normal(size=1000),\n",
       "...                rng.normal(loc=5, scale=2, size=1000)))\n",
       ">>> _ = plt.hist(a, bins='auto')  # arguments are passed to np.histogram\n",
       ">>> plt.title(\"Histogram with 'auto' bins\")\n",
       "Text(0.5, 1.0, \"Histogram with 'auto' bins\")\n",
       ">>> plt.show()\n",
       "\u001b[1;31mFile:\u001b[0m      d:\\anacoda3\\envs\\link\\lib\\site-packages\\numpy\\lib\\histograms.py\n",
       "\u001b[1;31mType:\u001b[0m      function\n"
      ]
     },
     "metadata": {},
     "output_type": "display_data"
    }
   ],
   "source": [
    "np.histogram?"
   ]
  },
  {
   "cell_type": "markdown",
   "id": "d69c0139-7ae5-4358-983b-a7671b50f91e",
   "metadata": {
    "tags": []
   },
   "source": [
    "## 밑바닥부터 numpy로 구현"
   ]
  },
  {
   "cell_type": "code",
   "execution_count": null,
   "id": "12ec716f-d7aa-404e-a8f3-4241ad2f54b7",
   "metadata": {},
   "outputs": [],
   "source": [
    "#-*-coding:utf-8-*-\n",
    "import cv2\n",
    "import numpy as np\n",
    "from matplotlib import pyplot as plt\n",
    "\n",
    "\n",
    "# img = cv2.imread('./images/hist_unequ.jpg');\n",
    "img = cv2.imread(os.path.join(PATH, 'hist_unequ.jpg'))\n",
    "img = cv2.cvtColor(img,cv2.COLOR_RGB2GRAY)\n",
    "\n",
    "# numpy를 이용한 histogramming\n",
    "hist, bin_edges = np.histogram(img.flatten(), 256,range=[0,256])\n",
    "# cumulative histogram\n",
    "cdf = hist.cumsum()\n",
    "print(f'hist:{hist.shape},bins:{bin_edges.shape},cdf:{cdf.shape}')\n",
    "plt.figure()\n",
    "plt.title('original cdf')\n",
    "plt.plot(cdf)\n",
    "\n",
    "\n",
    "\n",
    "\n",
    "# ----------------------------------------------------\n",
    "# Histogram Stretching\n",
    "img_hs = 255.* (img - np.min(img))/(np.max(img)-np.min(img))\n",
    "\n",
    "# -----------------------------------------------------\n",
    "\n",
    "\n",
    "\n",
    "# Histogram Equalization\n",
    "#\n",
    "# cdf의 값이 0인 경우는 mask처리를 하여 계산에서 제외\n",
    "# mask처리가 되면 Numpy 계산에서 제외가 됨\n",
    "# 아래는 cdf array에서 값이 0인 부분을 mask처리함\n",
    "cdf_m = np.ma.masked_equal(cdf,0)\n",
    "print(f'cdf_m:{cdf_m.shape}')\n",
    "plt.figure()\n",
    "plt.title('cdf exluding zero intensity')\n",
    "plt.plot(cdf_m)\n",
    "\n",
    "#History Equalization 공식\n",
    "cdf_m = (cdf_m - cdf_m.min())*255/(cdf_m.max()-cdf_m.min())\n",
    "# plt.figure()\n",
    "# plt.title('cdf for HE w/o zero bins'+str(len(cdf_m)))\n",
    "# plt.plot(cdf_m)\n",
    "# print(len(cdf_m))\n",
    "\n",
    "# Mask처리를 했던 부분을 다시 0으로 변환\n",
    "cdf = np.ma.filled(cdf_m,0).astype('uint8')\n",
    "plt.figure()\n",
    "plt.title('final_cdf for global HE /'+str(len(cdf)))\n",
    "plt.plot(cdf)\n",
    "\n",
    "\n",
    "img_he = cdf[img]\n",
    "\n",
    "\n",
    "plt.figure(figsize=(10,10))\n",
    "#plt.style.use('dark_background')\n",
    "plt.subplots_adjust(wspace=0.4,hspace=0.4)\n",
    "plt.subplot(331),plt.imshow(img,cmap='gray'),plt.title('Original')\n",
    "plt.xticks([]),plt.yticks([])\n",
    "plt.subplot(332),plt.imshow(img_hs,cmap='gray'),plt.title('Stretching')\n",
    "plt.xticks([]),plt.yticks([])\n",
    "plt.subplot(333),plt.imshow(img_he,cmap='gray'),plt.title('Equalization')\n",
    "plt.xticks([]),plt.yticks([])\n",
    "\n",
    "bin_size = 4\n",
    "hist, bins = np.histogram(img.flatten(),int(256/bin_size),[0,256])\n",
    "cdf = hist.cumsum()\n",
    "plt.subplot(334),plt.plot([bin_size*i for i in range(len(cdf))],hist)\n",
    "plt.subplot(337),plt.plot([bin_size*i for i in range(len(cdf))],cdf, color='r')\n",
    "\n",
    "bin_size = 4\n",
    "hist, bins = np.histogram(img_hs.flatten(),int(256/bin_size),[0,256])\n",
    "cdf = hist.cumsum()\n",
    "plt.subplot(335),plt.plot([bin_size*i for i in range(len(cdf))],hist)\n",
    "plt.subplot(338),plt.plot([bin_size*i for i in range(len(cdf))],cdf, color='r')\n",
    "\n",
    "\n",
    "bin_size = 8\n",
    "hist, bins = np.histogram(img_he.flatten(),int(256/bin_size),[0,256])\n",
    "cdf = hist.cumsum()\n",
    "plt.subplot(336),plt.plot([bin_size*i for i in range(len(cdf))],hist)\n",
    "plt.subplot(339),plt.plot([bin_size*i for i in range(len(cdf))],cdf, color='r')\n",
    "\n",
    "plt.tight_layout()\n",
    "plt.show()\n"
   ]
  },
  {
   "cell_type": "markdown",
   "id": "3886d6d7-c58a-4bcf-87b2-d46c894634c9",
   "metadata": {},
   "source": [
    "## opencv에는 아주 친절하게 저게 함수가 있다."
   ]
  },
  {
   "cell_type": "code",
   "execution_count": null,
   "id": "304b4481-0c64-402d-9b3f-0f5115f184bc",
   "metadata": {},
   "outputs": [],
   "source": [
    "# OpenCV의 Equaliztion함수\n",
    "img_he_cv = cv2.equalizeHist(img)"
   ]
  },
  {
   "cell_type": "code",
   "execution_count": 27,
   "id": "07085947-70e3-4e5c-90de-8e0f79e6ffc2",
   "metadata": {},
   "outputs": [
    {
     "data": {
      "text/plain": [
       "\u001b[1;31mDocstring:\u001b[0m\n",
       "equalizeHist(src[, dst]) -> dst\n",
       ".   @brief Equalizes the histogram of a grayscale image.\n",
       ".   \n",
       ".   The function equalizes the histogram of the input image using the following algorithm:\n",
       ".   \n",
       ".   - Calculate the histogram \\f$H\\f$ for src .\n",
       ".   - Normalize the histogram so that the sum of histogram bins is 255.\n",
       ".   - Compute the integral of the histogram:\n",
       ".   \\f[H'_i =  \\sum _{0  \\le j < i} H(j)\\f]\n",
       ".   - Transform the image using \\f$H'\\f$ as a look-up table: \\f$\\texttt{dst}(x,y) = H'(\\texttt{src}(x,y))\\f$\n",
       ".   \n",
       ".   The algorithm normalizes the brightness and increases the contrast of the image.\n",
       ".   \n",
       ".   @param src Source 8-bit single channel image.\n",
       ".   @param dst Destination image of the same size and type as src .\n",
       "\u001b[1;31mType:\u001b[0m      builtin_function_or_method\n"
      ]
     },
     "metadata": {},
     "output_type": "display_data"
    }
   ],
   "source": [
    "cv2.equalizeHist?"
   ]
  },
  {
   "cell_type": "markdown",
   "id": "0ddd262b-5edf-4366-94da-ed4e199528bb",
   "metadata": {},
   "source": [
    "### 위의 밑바닥 코드를 먼저 해 보면서 이해하고, 그 뒤부터는 opencv 함수를 쓰자!"
   ]
  },
  {
   "cell_type": "code",
   "execution_count": null,
   "id": "c0eb2e1a-7af3-4128-ba25-dd8f9e776e05",
   "metadata": {},
   "outputs": [],
   "source": []
  },
  {
   "cell_type": "code",
   "execution_count": null,
   "id": "5d84fb13-c1d4-4ebd-96f6-79a88e4ad841",
   "metadata": {},
   "outputs": [],
   "source": []
  },
  {
   "cell_type": "code",
   "execution_count": null,
   "id": "af8f3d33-04fc-43a3-aae8-b9ee4b0bca58",
   "metadata": {},
   "outputs": [],
   "source": []
  },
  {
   "cell_type": "code",
   "execution_count": null,
   "id": "89c130d3-67e9-4a96-8b35-33cb01c8544e",
   "metadata": {},
   "outputs": [],
   "source": []
  },
  {
   "cell_type": "markdown",
   "id": "f68cc0e6-c54b-4361-979f-682555740e8d",
   "metadata": {},
   "source": [
    "+) github -> ssh, private key, public key   \n",
    "+) hsi(color space) 쓰는 방법도 공부할 것!!!!!!"
   ]
  },
  {
   "cell_type": "markdown",
   "id": "080eeb5c-75d7-4a4b-a658-c2aabba034dc",
   "metadata": {},
   "source": [
    "## 푸리에 변환 등의 이미지 변환들을 공부할 것!"
   ]
  }
 ],
 "metadata": {
  "kernelspec": {
   "display_name": "Python 3 (ipykernel)",
   "language": "python",
   "name": "python3"
  },
  "language_info": {
   "codemirror_mode": {
    "name": "ipython",
    "version": 3
   },
   "file_extension": ".py",
   "mimetype": "text/x-python",
   "name": "python",
   "nbconvert_exporter": "python",
   "pygments_lexer": "ipython3",
   "version": "3.8.0"
  }
 },
 "nbformat": 4,
 "nbformat_minor": 5
}
